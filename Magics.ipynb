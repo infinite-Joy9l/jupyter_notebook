{
 "cells": [
  {
   "cell_type": "code",
   "execution_count": 4,
   "metadata": {},
   "outputs": [
    {
     "name": "stdout",
     "output_type": "stream",
     "text": [
      "total 8\n",
      "-rw-rw-r-- 1 joydeep joydeep 19 Nov 22 17:19 README.md\n",
      "-rw-rw-r-- 1 joydeep joydeep 72 Nov 22 17:22 Magics.ipynb\n",
      "-rw-rw-r-- 1 joydeep joydeep  0 Nov 22 17:22 Untitled.txt\n",
      "will read readme.md\n",
      "# jupyter_notebook\n"
     ]
    }
   ],
   "source": [
    "%%bash\n",
    "ls -ltr\n",
    "echo \"will read readme.md\"\n",
    "cat README.md"
   ]
  },
  {
   "cell_type": "code",
   "execution_count": 1,
   "metadata": {
    "collapsed": true
   },
   "outputs": [],
   "source": [
    "import pandas as pd\n",
    "df = pd.read_csv('reddituserpostingbehavior.csv.gz', compression='gzip', nrows=10, sep=',', names=['user']+list(range(25))).fillna('')"
   ]
  },
  {
   "cell_type": "code",
   "execution_count": 2,
   "metadata": {},
   "outputs": [
    {
     "name": "stdout",
     "output_type": "stream",
     "text": [
      "CPU times: user 9.22 s, sys: 95.2 ms, total: 9.32 s\n",
      "Wall time: 9.35 s\n"
     ]
    }
   ],
   "source": [
    "%%time\n",
    "user_ids = []\n",
    "subreddit_ids = []\n",
    "subreddit_to_id = {}\n",
    "i = 0\n",
    "\n",
    "import gzip\n",
    "with gzip.open('reddituserpostingbehavior.csv.gz', 'rb') as f:\n",
    "    for line in f:\n",
    "        this_line = line.decode(\"utf-8\")\n",
    "        for sr in this_line.rstrip().split(',')[1:]:\n",
    "            if sr not in subreddit_to_id:\n",
    "                subreddit_to_id[sr] = len(subreddit_to_id)\n",
    "            user_ids.append(i)\n",
    "            subreddit_ids.append(subreddit_to_id[sr])\n",
    "        i += 1"
   ]
  },
  {
   "cell_type": "code",
   "execution_count": 3,
   "metadata": {},
   "outputs": [
    {
     "name": "stdout",
     "output_type": "stream",
     "text": [
      "(15122, 876961)\n",
      "\n",
      "CPU times: user 3.67 s, sys: 143 ms, total: 3.81 s\n",
      "Wall time: 3.83 s\n"
     ]
    }
   ],
   "source": [
    "%%time\n",
    "import numpy as np\n",
    "from scipy.sparse import csr_matrix\n",
    "\n",
    "rows = np.array(subreddit_ids)\n",
    "cols = np.array(user_ids)\n",
    "data = np.ones((len(user_ids),))\n",
    "num_rows = len(subreddit_to_id)\n",
    "num_cols = i\n",
    "\n",
    "# the code above exists to feed this call.\n",
    "adj = csr_matrix((data, (rows, cols)), shape=(num_rows, num_cols))\n",
    "print(adj.shape)\n",
    "print('')"
   ]
  },
  {
   "cell_type": "markdown",
   "metadata": {},
   "source": [
    "# Showing math equations"
   ]
  },
  {
   "cell_type": "code",
   "execution_count": 1,
   "metadata": {},
   "outputs": [
    {
     "data": {
      "text/latex": [
       "\\begin{aligned}\n",
       "\\nabla \\times \\vec{\\mathbf{B}} -\\, \\frac1c\\, \\frac{\\partial\\vec{\\mathbf{E}}}{\\partial t} & = \\frac{4\\pi}{c}\\vec{\\mathbf{j}} \\\\\n",
       "\\nabla \\cdot \\vec{\\mathbf{E}} & = 4 \\pi \\rho \\\\\n",
       "\\nabla \\times \\vec{\\mathbf{E}}\\, +\\, \\frac1c\\, \\frac{\\partial\\vec{\\mathbf{B}}}{\\partial t} & = \\vec{\\mathbf{0}} \\\\\n",
       "\\nabla \\cdot \\vec{\\mathbf{B}} & = 0\n",
       "\\end{aligned}"
      ],
      "text/plain": [
       "<IPython.core.display.Latex object>"
      ]
     },
     "metadata": {},
     "output_type": "display_data"
    }
   ],
   "source": [
    "%%latex\n",
    "\\begin{aligned}\n",
    "\\nabla \\times \\vec{\\mathbf{B}} -\\, \\frac1c\\, \\frac{\\partial\\vec{\\mathbf{E}}}{\\partial t} & = \\frac{4\\pi}{c}\\vec{\\mathbf{j}} \\\\\n",
    "\\nabla \\cdot \\vec{\\mathbf{E}} & = 4 \\pi \\rho \\\\\n",
    "\\nabla \\times \\vec{\\mathbf{E}}\\, +\\, \\frac1c\\, \\frac{\\partial\\vec{\\mathbf{B}}}{\\partial t} & = \\vec{\\mathbf{0}} \\\\\n",
    "\\nabla \\cdot \\vec{\\mathbf{B}} & = 0\n",
    "\\end{aligned}"
   ]
  }
 ],
 "metadata": {
  "kernelspec": {
   "display_name": "Python 3",
   "language": "python",
   "name": "python3"
  },
  "language_info": {
   "codemirror_mode": {
    "name": "ipython",
    "version": 3
   },
   "file_extension": ".py",
   "mimetype": "text/x-python",
   "name": "python",
   "nbconvert_exporter": "python",
   "pygments_lexer": "ipython3",
   "version": "3.6.1"
  }
 },
 "nbformat": 4,
 "nbformat_minor": 2
}
